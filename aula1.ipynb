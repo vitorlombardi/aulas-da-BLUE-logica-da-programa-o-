{
  "nbformat": 4,
  "nbformat_minor": 0,
  "metadata": {
    "colab": {
      "name": "projetoaula1.ipynb",
      "provenance": [],
      "toc_visible": true,
      "authorship_tag": "ABX9TyOmdo6ByfVJUn9UuYb367rA",
      "include_colab_link": true
    },
    "kernelspec": {
      "name": "python3",
      "display_name": "Python 3"
    },
    "language_info": {
      "name": "python"
    }
  },
  "cells": [
    {
      "cell_type": "markdown",
      "metadata": {
        "id": "view-in-github",
        "colab_type": "text"
      },
      "source": [
        "<a href=\"https://colab.research.google.com/github/vitorlombardi/aulas-da-BLUE-logica-da-programa-o-/blob/main/aula1.ipynb\" target=\"_parent\"><img src=\"https://colab.research.google.com/assets/colab-badge.svg\" alt=\"Open In Colab\"/></a>"
      ]
    },
    {
      "cell_type": "markdown",
      "metadata": {
        "id": "GemsO84nEvEP"
      },
      "source": [
        "# comando print"
      ]
    },
    {
      "cell_type": "code",
      "metadata": {
        "colab": {
          "base_uri": "https://localhost:8080/"
        },
        "id": "T0KKlX1_FEJX",
        "outputId": "756c40ae-8aca-419f-9f46-459b5ed1988a"
      },
      "source": [
        "print('ola mundo')"
      ],
      "execution_count": 1,
      "outputs": [
        {
          "output_type": "stream",
          "text": [
            "ola mundo\n"
          ],
          "name": "stdout"
        }
      ]
    },
    {
      "cell_type": "markdown",
      "metadata": {
        "id": "RrhA27CkOASz"
      },
      "source": [
        ""
      ]
    },
    {
      "cell_type": "markdown",
      "metadata": {
        "id": "zm_K3plQOKjJ"
      },
      "source": [
        "#operadores\n"
      ]
    },
    {
      "cell_type": "code",
      "metadata": {
        "colab": {
          "base_uri": "https://localhost:8080/"
        },
        "id": "wXDCGNZwHt1n",
        "outputId": "6531df03-09d0-47ea-eab9-5978efd27731"
      },
      "source": [
        "print(\"16+40\")"
      ],
      "execution_count": 4,
      "outputs": [
        {
          "output_type": "stream",
          "text": [
            "16+40\n"
          ],
          "name": "stdout"
        }
      ]
    },
    {
      "cell_type": "code",
      "metadata": {
        "colab": {
          "base_uri": "https://localhost:8080/"
        },
        "id": "7GoTxgxhH9_n",
        "outputId": "90ce2f0b-a662-485c-8ed8-3a0433117c4a"
      },
      "source": [
        "print('16'+'40')"
      ],
      "execution_count": 5,
      "outputs": [
        {
          "output_type": "stream",
          "text": [
            "1640\n"
          ],
          "name": "stdout"
        }
      ]
    },
    {
      "cell_type": "code",
      "metadata": {
        "colab": {
          "base_uri": "https://localhost:8080/"
        },
        "id": "HmnRP-r3HRs-",
        "outputId": "077af849-585b-4cfc-ae17-5aed82af2a71"
      },
      "source": [
        "print(16+40)"
      ],
      "execution_count": 3,
      "outputs": [
        {
          "output_type": "stream",
          "text": [
            "56\n"
          ],
          "name": "stdout"
        }
      ]
    },
    {
      "cell_type": "code",
      "metadata": {
        "colab": {
          "base_uri": "https://localhost:8080/"
        },
        "id": "xbqlaEqzLSbu",
        "outputId": "954bd826-76e9-4db9-d617-d367978b0d06"
      },
      "source": [
        "print(4/3)"
      ],
      "execution_count": 9,
      "outputs": [
        {
          "output_type": "stream",
          "text": [
            "1.3333333333333333\n"
          ],
          "name": "stdout"
        }
      ]
    },
    {
      "cell_type": "code",
      "metadata": {
        "colab": {
          "base_uri": "https://localhost:8080/"
        },
        "id": "8wnsFZ-gLd0L",
        "outputId": "62e8b026-8d15-4445-f198-7dee65227e67"
      },
      "source": [
        "print(12/4)"
      ],
      "execution_count": 10,
      "outputs": [
        {
          "output_type": "stream",
          "text": [
            "3.0\n"
          ],
          "name": "stdout"
        }
      ]
    },
    {
      "cell_type": "code",
      "metadata": {
        "colab": {
          "base_uri": "https://localhost:8080/"
        },
        "id": "1vVQz0oSM65N",
        "outputId": "80ed006d-1fda-4966-ea79-b0c8bacf2ae6"
      },
      "source": [
        "a=4\n",
        "b=2\n",
        "print(a+b)\n",
        "print(a-b)\n",
        "print(a*b)\n",
        "print(a//b)\n",
        "print(a/b)\n",
        "print(a%b)"
      ],
      "execution_count": 11,
      "outputs": [
        {
          "output_type": "stream",
          "text": [
            "6\n",
            "2\n",
            "8\n",
            "2\n",
            "2.0\n",
            "0\n"
          ],
          "name": "stdout"
        }
      ]
    },
    {
      "cell_type": "code",
      "metadata": {
        "colab": {
          "base_uri": "https://localhost:8080/"
        },
        "id": "YJiI2ro4NvAD",
        "outputId": "c87bf39e-abd3-4f18-bd7d-1194e9c54173"
      },
      "source": [
        "soma=4+8\n",
        "sub=8-4\n",
        "mul=4*8\n",
        "div=4/8\n",
        "\n",
        "print(soma)\n",
        "print(sub)\n",
        "print(mul)\n",
        "print(div)"
      ],
      "execution_count": 14,
      "outputs": [
        {
          "output_type": "stream",
          "text": [
            "12\n",
            "4\n",
            "32\n",
            "0.5\n"
          ],
          "name": "stdout"
        }
      ]
    },
    {
      "cell_type": "markdown",
      "metadata": {
        "id": "r1mIaSnYO2FL"
      },
      "source": [
        "# operadores relacionais"
      ]
    },
    {
      "cell_type": "code",
      "metadata": {
        "colab": {
          "base_uri": "https://localhost:8080/"
        },
        "id": "0oetd3mtO-K6",
        "outputId": "fd555a7f-f35a-40d4-e6cb-1f84a38e3541"
      },
      "source": [
        "print(2>5)"
      ],
      "execution_count": 15,
      "outputs": [
        {
          "output_type": "stream",
          "text": [
            "False\n"
          ],
          "name": "stdout"
        }
      ]
    },
    {
      "cell_type": "code",
      "metadata": {
        "colab": {
          "base_uri": "https://localhost:8080/"
        },
        "id": "jC5piIdGQGdh",
        "outputId": "82877bdb-c5d6-423c-e261-b33da84c9597"
      },
      "source": [
        "print(2<=5)"
      ],
      "execution_count": 16,
      "outputs": [
        {
          "output_type": "stream",
          "text": [
            "True\n"
          ],
          "name": "stdout"
        }
      ]
    },
    {
      "cell_type": "code",
      "metadata": {
        "colab": {
          "base_uri": "https://localhost:8080/"
        },
        "id": "j-QNEJgcQUt-",
        "outputId": "2affdb20-4b94-4426-cbc2-56484e15fb12"
      },
      "source": [
        "a=5\n",
        "print(a==5)\n",
        "print(a==4)\n",
        "print(a)"
      ],
      "execution_count": 17,
      "outputs": [
        {
          "output_type": "stream",
          "text": [
            "True\n",
            "False\n",
            "5\n"
          ],
          "name": "stdout"
        }
      ]
    },
    {
      "cell_type": "code",
      "metadata": {
        "colab": {
          "base_uri": "https://localhost:8080/"
        },
        "id": "iKK-G9C3Q1ef",
        "outputId": "f0001107-cbf3-4364-eef4-ad8b0891cdc4"
      },
      "source": [
        "print('VITOR'==\"vitor\")"
      ],
      "execution_count": 18,
      "outputs": [
        {
          "output_type": "stream",
          "text": [
            "False\n"
          ],
          "name": "stdout"
        }
      ]
    },
    {
      "cell_type": "code",
      "metadata": {
        "id": "3l9FiF50SnWX"
      },
      "source": [
        "nota="
      ],
      "execution_count": null,
      "outputs": []
    },
    {
      "cell_type": "markdown",
      "metadata": {
        "id": "Ts2d5OwBUkNx"
      },
      "source": [
        "# operadores logicos"
      ]
    },
    {
      "cell_type": "code",
      "metadata": {
        "id": "Rnk4XyvpUp4M"
      },
      "source": [
        ""
      ],
      "execution_count": null,
      "outputs": []
    },
    {
      "cell_type": "markdown",
      "metadata": {
        "id": "ItgIfYDMU4pK"
      },
      "source": [
        "# variavel"
      ]
    },
    {
      "cell_type": "code",
      "metadata": {
        "id": "wvdJh4qzVCQe"
      },
      "source": [
        ""
      ],
      "execution_count": null,
      "outputs": []
    },
    {
      "cell_type": "code",
      "metadata": {
        "id": "jthOVkmFU651"
      },
      "source": [
        ""
      ],
      "execution_count": null,
      "outputs": []
    }
  ]
}